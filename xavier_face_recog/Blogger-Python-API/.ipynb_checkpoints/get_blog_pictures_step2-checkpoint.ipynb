{
 "cells": [
  {
   "cell_type": "code",
   "execution_count": 1,
   "metadata": {},
   "outputs": [],
   "source": [
    "import requests\n",
    "import urllib.request\n",
    "import pandas as pd\n",
    "from apiclient.discovery import build\n",
    "import time\n",
    "import pickle\n",
    "import os\n",
    "from tqdm import tqdm"
   ]
  },
  {
   "cell_type": "code",
   "execution_count": 2,
   "metadata": {},
   "outputs": [],
   "source": [
    "#create a dataframe of all the .jpg link\n",
    "with open (\"./pictures_blog_update.txt\",\"rb\") as f:\n",
    "    url = pickle.load(f)\n",
    "df_url = pd.DataFrame(data={\n",
    "    'url':url\n",
    "})\n",
    "\n",
    "#df_url.to_csv('./pictures.csv')"
   ]
  },
  {
   "cell_type": "code",
   "execution_count": 3,
   "metadata": {},
   "outputs": [
    {
     "data": {
      "text/html": [
       "<div>\n",
       "<style scoped>\n",
       "    .dataframe tbody tr th:only-of-type {\n",
       "        vertical-align: middle;\n",
       "    }\n",
       "\n",
       "    .dataframe tbody tr th {\n",
       "        vertical-align: top;\n",
       "    }\n",
       "\n",
       "    .dataframe thead th {\n",
       "        text-align: right;\n",
       "    }\n",
       "</style>\n",
       "<table border=\"1\" class=\"dataframe\">\n",
       "  <thead>\n",
       "    <tr style=\"text-align: right;\">\n",
       "      <th></th>\n",
       "      <th>url</th>\n",
       "    </tr>\n",
       "  </thead>\n",
       "  <tbody>\n",
       "    <tr>\n",
       "      <th>0</th>\n",
       "      <td>https://1.bp.blogspot.com/-5j5v3oqrahs/X_MkSxg...</td>\n",
       "    </tr>\n",
       "    <tr>\n",
       "      <th>1</th>\n",
       "      <td>https://1.bp.blogspot.com/-TSasZcff6Kc/X_MkSrp...</td>\n",
       "    </tr>\n",
       "    <tr>\n",
       "      <th>2</th>\n",
       "      <td>https://1.bp.blogspot.com/-cTwL47D2-R0/X_MkSO_...</td>\n",
       "    </tr>\n",
       "    <tr>\n",
       "      <th>3</th>\n",
       "      <td>https://1.bp.blogspot.com/-2gtGBwwvwq8/X_Mj_XN...</td>\n",
       "    </tr>\n",
       "    <tr>\n",
       "      <th>4</th>\n",
       "      <td>https://1.bp.blogspot.com/-FjLSgZPnUdE/X_Mjyo0...</td>\n",
       "    </tr>\n",
       "  </tbody>\n",
       "</table>\n",
       "</div>"
      ],
      "text/plain": [
       "                                                 url\n",
       "0  https://1.bp.blogspot.com/-5j5v3oqrahs/X_MkSxg...\n",
       "1  https://1.bp.blogspot.com/-TSasZcff6Kc/X_MkSrp...\n",
       "2  https://1.bp.blogspot.com/-cTwL47D2-R0/X_MkSO_...\n",
       "3  https://1.bp.blogspot.com/-2gtGBwwvwq8/X_Mj_XN...\n",
       "4  https://1.bp.blogspot.com/-FjLSgZPnUdE/X_Mjyo0..."
      ]
     },
     "execution_count": 3,
     "metadata": {},
     "output_type": "execute_result"
    }
   ],
   "source": [
    "df_url.head()"
   ]
  },
  {
   "cell_type": "code",
   "execution_count": 5,
   "metadata": {},
   "outputs": [],
   "source": [
    "i=4230\n",
    "with open (\"./nbr_pictures_blog.pkl\",\"wb\") as f:\n",
    "    pickle.dump(i, f)"
   ]
  },
  {
   "cell_type": "code",
   "execution_count": 7,
   "metadata": {},
   "outputs": [
    {
     "name": "stdout",
     "output_type": "stream",
     "text": [
      "Beginning file download with urllib2...\n",
      "<class 'int'>\n"
     ]
    }
   ],
   "source": [
    "print('Beginning file download with urllib2...')\n",
    "with open (\"./nbr_pictures_blog.pkl\",\"rb\") as f:\n",
    "    i = pickle.load(f)\n",
    "\n",
    "for row in df_url['url']:     \n",
    "        if str(row).startswith('https'):\n",
    "            urllib.request.urlretrieve(str(row), './../../../../data/pictures_blog_update/picture' + str(i) + '.jpg')\n",
    "            i+=1\n",
    "            \n",
    "with open (\"./nbr_pictures_blog.pkl\",\"wb\") as f:\n",
    "    pickle.dump(i, f)"
   ]
  },
  {
   "cell_type": "code",
   "execution_count": null,
   "metadata": {},
   "outputs": [],
   "source": []
  }
 ],
 "metadata": {
  "kernelspec": {
   "display_name": "Python 3",
   "language": "python",
   "name": "python3"
  },
  "language_info": {
   "codemirror_mode": {
    "name": "ipython",
    "version": 3
   },
   "file_extension": ".py",
   "mimetype": "text/x-python",
   "name": "python",
   "nbconvert_exporter": "python",
   "pygments_lexer": "ipython3",
   "version": "3.8.3"
  }
 },
 "nbformat": 4,
 "nbformat_minor": 4
}
