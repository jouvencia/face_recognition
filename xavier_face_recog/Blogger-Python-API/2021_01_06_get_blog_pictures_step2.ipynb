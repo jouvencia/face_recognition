{
 "cells": [
  {
   "cell_type": "code",
   "execution_count": 1,
   "metadata": {},
   "outputs": [],
   "source": [
    "import requests\n",
    "import urllib.request\n",
    "import pandas as pd\n",
    "from apiclient.discovery import build\n",
    "import time\n",
    "import pickle\n",
    "import os\n",
    "from tqdm import tqdm"
   ]
  },
  {
   "cell_type": "code",
   "execution_count": 2,
   "metadata": {},
   "outputs": [],
   "source": [
    "#create a dataframe of all the .jpg link\n",
    "with open (\"./pictures_blog_update.txt\",\"rb\") as f:\n",
    "    url = pickle.load(f)\n",
    "df_url = pd.DataFrame(data={\n",
    "    'url':url\n",
    "})\n",
    "\n",
    "#df_url.to_csv('./pictures.csv')"
   ]
  },
  {
   "cell_type": "code",
   "execution_count": 3,
   "metadata": {},
   "outputs": [
    {
     "data": {
      "text/html": [
       "<div>\n",
       "<style scoped>\n",
       "    .dataframe tbody tr th:only-of-type {\n",
       "        vertical-align: middle;\n",
       "    }\n",
       "\n",
       "    .dataframe tbody tr th {\n",
       "        vertical-align: top;\n",
       "    }\n",
       "\n",
       "    .dataframe thead th {\n",
       "        text-align: right;\n",
       "    }\n",
       "</style>\n",
       "<table border=\"1\" class=\"dataframe\">\n",
       "  <thead>\n",
       "    <tr style=\"text-align: right;\">\n",
       "      <th></th>\n",
       "      <th>url</th>\n",
       "    </tr>\n",
       "  </thead>\n",
       "  <tbody>\n",
       "    <tr>\n",
       "      <td>0</td>\n",
       "      <td>https://1.bp.blogspot.com/-MjmsRQE9aOg/X_a7J7N...</td>\n",
       "    </tr>\n",
       "    <tr>\n",
       "      <td>1</td>\n",
       "      <td>https://1.bp.blogspot.com/-yOFjzb34IB0/X_a7PWY...</td>\n",
       "    </tr>\n",
       "    <tr>\n",
       "      <td>2</td>\n",
       "      <td>https://1.bp.blogspot.com/-UUi6W1SY0Q4/X_YMxWp...</td>\n",
       "    </tr>\n",
       "    <tr>\n",
       "      <td>3</td>\n",
       "      <td>https://1.bp.blogspot.com/-N0AD_Q9a5OY/X_YMs3C...</td>\n",
       "    </tr>\n",
       "    <tr>\n",
       "      <td>4</td>\n",
       "      <td>https://1.bp.blogspot.com/-mf-VRWCQv_k/X_YMs1E...</td>\n",
       "    </tr>\n",
       "    <tr>\n",
       "      <td>5</td>\n",
       "      <td>https://1.bp.blogspot.com/-m5s2Vrn1PWg/X_YMrGC...</td>\n",
       "    </tr>\n",
       "    <tr>\n",
       "      <td>6</td>\n",
       "      <td>https://1.bp.blogspot.com/-0jGVpv3ej74/X_Xmqxd...</td>\n",
       "    </tr>\n",
       "    <tr>\n",
       "      <td>7</td>\n",
       "      <td>https://1.bp.blogspot.com/-UvryeHy_-jY/X_Xm2FH...</td>\n",
       "    </tr>\n",
       "    <tr>\n",
       "      <td>8</td>\n",
       "      <td>https://1.bp.blogspot.com/-tbTlv00DF3Y/X_Xm4S0...</td>\n",
       "    </tr>\n",
       "    <tr>\n",
       "      <td>9</td>\n",
       "      <td>https://1.bp.blogspot.com/-Mi45KkH6XFg/X_XnIux...</td>\n",
       "    </tr>\n",
       "    <tr>\n",
       "      <td>10</td>\n",
       "      <td>https://1.bp.blogspot.com/-28H9l-NOr4M/X_Xazrs...</td>\n",
       "    </tr>\n",
       "    <tr>\n",
       "      <td>11</td>\n",
       "      <td>https://1.bp.blogspot.com/-aTQWxKYiRdo/X_XasiT...</td>\n",
       "    </tr>\n",
       "    <tr>\n",
       "      <td>12</td>\n",
       "      <td>https://1.bp.blogspot.com/-8XkyiiTNQqA/X_XavQh...</td>\n",
       "    </tr>\n",
       "    <tr>\n",
       "      <td>13</td>\n",
       "      <td>https://1.bp.blogspot.com/-5YS4GGjaO8Q/X_XavE5...</td>\n",
       "    </tr>\n",
       "    <tr>\n",
       "      <td>14</td>\n",
       "      <td>https://1.bp.blogspot.com/-BimnRMJ0Bjo/X_WwUAT...</td>\n",
       "    </tr>\n",
       "    <tr>\n",
       "      <td>15</td>\n",
       "      <td>https://1.bp.blogspot.com/-22k5q42YnSI/X_WwWgz...</td>\n",
       "    </tr>\n",
       "  </tbody>\n",
       "</table>\n",
       "</div>"
      ],
      "text/plain": [
       "                                                  url\n",
       "0   https://1.bp.blogspot.com/-MjmsRQE9aOg/X_a7J7N...\n",
       "1   https://1.bp.blogspot.com/-yOFjzb34IB0/X_a7PWY...\n",
       "2   https://1.bp.blogspot.com/-UUi6W1SY0Q4/X_YMxWp...\n",
       "3   https://1.bp.blogspot.com/-N0AD_Q9a5OY/X_YMs3C...\n",
       "4   https://1.bp.blogspot.com/-mf-VRWCQv_k/X_YMs1E...\n",
       "5   https://1.bp.blogspot.com/-m5s2Vrn1PWg/X_YMrGC...\n",
       "6   https://1.bp.blogspot.com/-0jGVpv3ej74/X_Xmqxd...\n",
       "7   https://1.bp.blogspot.com/-UvryeHy_-jY/X_Xm2FH...\n",
       "8   https://1.bp.blogspot.com/-tbTlv00DF3Y/X_Xm4S0...\n",
       "9   https://1.bp.blogspot.com/-Mi45KkH6XFg/X_XnIux...\n",
       "10  https://1.bp.blogspot.com/-28H9l-NOr4M/X_Xazrs...\n",
       "11  https://1.bp.blogspot.com/-aTQWxKYiRdo/X_XasiT...\n",
       "12  https://1.bp.blogspot.com/-8XkyiiTNQqA/X_XavQh...\n",
       "13  https://1.bp.blogspot.com/-5YS4GGjaO8Q/X_XavE5...\n",
       "14  https://1.bp.blogspot.com/-BimnRMJ0Bjo/X_WwUAT...\n",
       "15  https://1.bp.blogspot.com/-22k5q42YnSI/X_WwWgz..."
      ]
     },
     "execution_count": 3,
     "metadata": {},
     "output_type": "execute_result"
    }
   ],
   "source": [
    "df_url"
   ]
  },
  {
   "cell_type": "code",
   "execution_count": 4,
   "metadata": {},
   "outputs": [
    {
     "name": "stdout",
     "output_type": "stream",
     "text": [
      "Beginning file download with urllib2...\n"
     ]
    }
   ],
   "source": [
    "print('Beginning file download with urllib2...')\n",
    "with open (\"./nbr_pictures_blog.pkl\",\"rb\") as f:\n",
    "    i = pickle.load(f)\n",
    "\n",
    "for row in df_url['url']:     \n",
    "        if str(row).startswith('https'):\n",
    "            urllib.request.urlretrieve(str(row), './../../../../Boulot/JouvencIA/pictures_blog_update2/picture' + str(i) + '.jpg')\n",
    "            i+=1\n",
    "            \n",
    "with open (\"./nbr_pictures_blog.pkl\",\"wb\") as f:\n",
    "    pickle.dump(i, f)"
   ]
  },
  {
   "cell_type": "code",
   "execution_count": null,
   "metadata": {},
   "outputs": [],
   "source": []
  }
 ],
 "metadata": {
  "kernelspec": {
   "display_name": "Python 3",
   "language": "python",
   "name": "python3"
  },
  "language_info": {
   "codemirror_mode": {
    "name": "ipython",
    "version": 3
   },
   "file_extension": ".py",
   "mimetype": "text/x-python",
   "name": "python",
   "nbconvert_exporter": "python",
   "pygments_lexer": "ipython3",
   "version": "3.7.4"
  },
  "toc": {
   "base_numbering": 1,
   "nav_menu": {},
   "number_sections": true,
   "sideBar": true,
   "skip_h1_title": false,
   "title_cell": "Table of Contents",
   "title_sidebar": "Contents",
   "toc_cell": false,
   "toc_position": {},
   "toc_section_display": true,
   "toc_window_display": false
  },
  "varInspector": {
   "cols": {
    "lenName": 16,
    "lenType": 16,
    "lenVar": 40
   },
   "kernels_config": {
    "python": {
     "delete_cmd_postfix": "",
     "delete_cmd_prefix": "del ",
     "library": "var_list.py",
     "varRefreshCmd": "print(var_dic_list())"
    },
    "r": {
     "delete_cmd_postfix": ") ",
     "delete_cmd_prefix": "rm(",
     "library": "var_list.r",
     "varRefreshCmd": "cat(var_dic_list()) "
    }
   },
   "types_to_exclude": [
    "module",
    "function",
    "builtin_function_or_method",
    "instance",
    "_Feature"
   ],
   "window_display": false
  }
 },
 "nbformat": 4,
 "nbformat_minor": 4
}
