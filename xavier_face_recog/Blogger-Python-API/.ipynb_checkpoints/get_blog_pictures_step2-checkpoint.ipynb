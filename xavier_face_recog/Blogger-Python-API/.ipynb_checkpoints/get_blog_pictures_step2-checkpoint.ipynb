{
 "cells": [
  {
   "cell_type": "code",
   "execution_count": 1,
   "metadata": {},
   "outputs": [],
   "source": [
    "import requests\n",
    "import urllib.request\n",
    "import pandas as pd\n",
    "from apiclient.discovery import build\n",
    "import time\n",
    "import pickle\n",
    "import os\n",
    "from tqdm import tqdm"
   ]
  },
  {
   "cell_type": "code",
   "execution_count": 2,
   "metadata": {},
   "outputs": [],
   "source": [
    "#create a dataframe of all the .jpg link\n",
    "with open (\"./pictures_blog_update.txt\",\"rb\") as f:\n",
    "    url = pickle.load(f)\n",
    "df_url = pd.DataFrame(data={\n",
    "    'url':url\n",
    "})\n",
    "\n",
    "#df_url.to_csv('./pictures.csv')"
   ]
  },
  {
   "cell_type": "code",
   "execution_count": 4,
   "metadata": {},
   "outputs": [
    {
     "name": "stdout",
     "output_type": "stream",
     "text": [
      "Beginning file download with urllib2...\n"
     ]
    }
   ],
   "source": [
    "print('Beginning file download with urllib2...')\n",
    "i=len([name for name in os.listdir('./../../../../data/pictures_blog/')])\n",
    "for row in df_url['url']:     \n",
    "        if str(row).startswith('https'):\n",
    "            urllib.request.urlretrieve(str(row), './../../../../data/pictures_blog/picture' + str(i) + '.jpg')\n",
    "            i+=1"
   ]
  },
  {
   "cell_type": "code",
   "execution_count": null,
   "metadata": {},
   "outputs": [],
   "source": []
  }
 ],
 "metadata": {
  "kernelspec": {
   "display_name": "Python 3",
   "language": "python",
   "name": "python3"
  },
  "language_info": {
   "codemirror_mode": {
    "name": "ipython",
    "version": 3
   },
   "file_extension": ".py",
   "mimetype": "text/x-python",
   "name": "python",
   "nbconvert_exporter": "python",
   "pygments_lexer": "ipython3",
   "version": "3.8.3"
  }
 },
 "nbformat": 4,
 "nbformat_minor": 4
}
